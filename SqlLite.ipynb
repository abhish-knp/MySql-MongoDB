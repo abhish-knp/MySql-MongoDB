{
 "cells": [
  {
   "cell_type": "code",
   "execution_count": 1,
   "metadata": {},
   "outputs": [],
   "source": [
    "# Import sqlite3 to use sql connection and to prepare database\n",
    "\n",
    "import sqlalchemy\n",
    "import sqlite3"
   ]
  },
  {
   "cell_type": "code",
   "execution_count": 2,
   "metadata": {},
   "outputs": [],
   "source": [
    "# To connect with database, create a new\n",
    "cnn = sqlite3.connect('jupyter_sql_tutorial.db')\n",
    "\n",
    "import pandas as pd\n",
    "# to create dataframe\n",
    "df = pd.DataFrame({'name': ['Juan','Victoria','Mary','Guddu'],\n",
    "'age': [23,33,25,45],\n",
    "'city': ['Miami','India','Santiago','CapTown']\n",
    "})\n",
    "\n",
    "# To convert df to sql table\n",
    "df.to_sql('Global', cnn)\n",
    "\n",
    "# to load sql server\n",
    "%load_ext sql\n",
    "%sql sqlite:///jupyter_sql_tutorial.db\n"
   ]
  },
  {
   "cell_type": "code",
   "execution_count": 3,
   "metadata": {},
   "outputs": [
    {
     "name": "stdout",
     "output_type": "stream",
     "text": [
      " * sqlite:///jupyter_sql_tutorial.db\n",
      "Done.\n"
     ]
    },
    {
     "data": {
      "text/plain": [
       "[]"
      ]
     },
     "execution_count": 3,
     "metadata": {},
     "output_type": "execute_result"
    }
   ],
   "source": [
    "# to apply sql query using %%sql\n",
    "\n",
    "%%sql\n",
    "create view turing as \n",
    "select id, name, dept_name\n",
    "from instructor"
   ]
  },
  {
   "cell_type": "code",
   "execution_count": null,
   "metadata": {},
   "outputs": [],
   "source": []
  }
 ],
 "metadata": {
  "interpreter": {
   "hash": "231b793e72510f63263cf75731d759da8776d8c74c3ed2dbefa0f0827e58fa6e"
  },
  "kernelspec": {
   "display_name": "Python 3.9.12 64-bit (windows store)",
   "language": "python",
   "name": "python3"
  },
  "language_info": {
   "codemirror_mode": {
    "name": "ipython",
    "version": 3
   },
   "file_extension": ".py",
   "mimetype": "text/x-python",
   "name": "python",
   "nbconvert_exporter": "python",
   "pygments_lexer": "ipython3",
   "version": "3.9.12"
  },
  "orig_nbformat": 4
 },
 "nbformat": 4,
 "nbformat_minor": 2
}
